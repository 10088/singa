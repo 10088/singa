{
 "cells": [
  {
   "cell_type": "markdown",
   "metadata": {},
   "source": [
    "# Train a RBM model\n",
    "\n",
    "This notebook woul train a Restricted Boltzmann Machine (RBM) over the MNIST dataset using PySINGA. The RBM model would learn a feature representation of a digit image like MNIST images.\n",
    "Please refer to the previous two notebooks for basic usages of Tensor and other moduels of PySINGA.\n",
    "\n",
    "* Please intall Pillow to enable image display. 'conda install pillow'\n",
    "\n",
    "## Download the training data\n",
    "\n",
    "We will use a pre-processed version of the original MNIST dataset."
   ]
  },
  {
   "cell_type": "code",
   "execution_count": 13,
   "metadata": {
    "collapsed": false
   },
   "outputs": [],
   "source": [
    "import numpy as np\n",
    "import os\n",
    "import gzip\n",
    "import argparse\n",
    "import cPickle\n",
    "import utils\n",
    "import Image\n",
    "import urllib\n",
    "\n",
    "import matplotlib.pyplot as plt\n",
    "%matplotlib inline\n",
    "\n",
    "\n",
    "def load_train_data():\n",
    "    # download the data for the first time running\n",
    "    print 'downloading data'\n",
    "    urllib.urlretrieve('https://github.com/mnielsen/neural-networks-and-deep-learning/raw/master/data/mnist.pkl.gz', 'data.bin')\n",
    "    print 'finished data downloading'\n",
    "    f = gzip.open('data.bin', 'rb')\n",
    "    train_set, valid_set, test_set = cPickle.load(f)\n",
    "    traindata = train_set[0].astype(np.float32)\n",
    "    validdata = valid_set[0].astype(np.float32)\n",
    "    print traindata.shape, validdata.shape\n",
    "    return traindata, validdata"
   ]
  },
  {
   "cell_type": "markdown",
   "metadata": {},
   "source": [
    "Import PySINGA modules"
   ]
  },
  {
   "cell_type": "code",
   "execution_count": 14,
   "metadata": {
    "collapsed": true
   },
   "outputs": [],
   "source": [
    "from singa import initializer\n",
    "from singa import optimizer\n",
    "from singa import device\n",
    "from singa import tensor\n",
    "from singa.proto import core_pb2"
   ]
  },
  {
   "cell_type": "markdown",
   "metadata": {},
   "source": [
    "## Setup\n",
    "\n",
    "* Load training data\n",
    "* Create the device. If GPU is available, please set **use_gpu=True**\n",
    "* Create SGD optimzier with given momentum and weight decay\n",
    "* Create parameter Tensor instances and initialize the parameters"
   ]
  },
  {
   "cell_type": "code",
   "execution_count": 15,
   "metadata": {
    "collapsed": false
   },
   "outputs": [
    {
     "name": "stdout",
     "output_type": "stream",
     "text": [
      "Loading data ..................\n",
      "downloading data\n",
      "finished data downloading\n",
      "(50000, 784) (10000, 784)\n"
     ]
    }
   ],
   "source": [
    "opt = optimizer.SGD(momentum=0.8, weight_decay=0.0002) \n",
    "\n",
    "hdim = 1000\n",
    "vdim = 784\n",
    "w = tensor.Tensor((vdim, hdim))\n",
    "w.gaussian(0.0, 0.1)\n",
    "vb = tensor.from_numpy(np.zeros(vdim, dtype = np.float32))\n",
    "hb = tensor.from_numpy(np.zeros(hdim, dtype = np.float32))\n",
    "\n",
    "print 'Loading data ..................'\n",
    "dat,_ = load_train_data()\n",
    "\n",
    "use_gpu = False\n",
    "if use_gpu:\n",
    "    dev = device.create_cuda_gpu()\n",
    "else:\n",
    "    dev = device.get_default_device()\n",
    "\n",
    "for t in [w, vb, hb]:\n",
    "    t.to_device(dev)   "
   ]
  },
  {
   "cell_type": "markdown",
   "metadata": {},
   "source": [
    "Train the RBM model for 10 epochs, for each epoch\n",
    "* Plot the weight matrix\n",
    "* Update the model parameters using CD algorithm,\n",
    "    * Get a mini-batch of training data\n",
    "    * Do positive phase\n",
    "    * Do negative phase\n",
    "    * Compute reconstruction error\n",
    "    * Compute parameter gradients and update the parameters"
   ]
  },
  {
   "cell_type": "code",
   "execution_count": null,
   "metadata": {
    "collapsed": false
   },
   "outputs": [
    {
     "name": "stdout",
     "output_type": "stream",
     "text": [
      "Epoch 0, Reconstruction error per image = 17.937706\n",
      "Epoch 1, Reconstruction error per image = 10.943875\n",
      "Epoch 2, Reconstruction error per image = 9.583109\n",
      "Epoch 3, Reconstruction error per image = 8.912214\n"
     ]
    }
   ],
   "source": [
    "batch_size = 100\n",
    "num_train_batch = dat.shape[0] / batch_size\n",
    "for epoch in range(10):\n",
    "    w.to_host()  # move the tensor to the host to get its values\n",
    "    wnp = tensor.to_numpy(w)\n",
    "    image = Image.fromarray(utils.tile_raster_images(X = wnp.T, img_shape=(28, 28), \n",
    "                                                     tile_shape=(10, 10), tile_spacing=(1,1)))\n",
    "\n",
    "    plt.figure()\n",
    "    plt.imshow(image, cmap='Greys_r')\n",
    "\n",
    "    err = 0.0\n",
    "    w.to_device(dev) # move the tensor back to the device    \n",
    "    tposhidrandom = tensor.Tensor((batch_size, hdim), dev)\n",
    "    for b in range(num_train_batch):\n",
    "        # positive phase\n",
    "        tdata = tensor.from_numpy(dat[(b * batch_size):((b + 1) * batch_size), : ])\n",
    "        tdata.to_device(dev)\n",
    "        tposhidprob = tensor.mult(tdata, w)\n",
    "        tposhidprob.add_row(hb)\n",
    "        tposhidprob = tensor.sigmoid(tposhidprob)        \n",
    "        tposhidrandom.uniform(0.0, 1.0)\n",
    "        tposhidsample = tensor.gt(tposhidprob, tposhidrandom)\n",
    "\n",
    "        # negative phase\n",
    "        tnegdata = tensor.mult(tposhidsample, w.T())\n",
    "        tnegdata.add_row(vb)\n",
    "        tnegdata = tensor.sigmoid(tnegdata)\n",
    "        tneghidprob = tensor.mult(tnegdata, w)\n",
    "        tneghidprob.add_row(hb)\n",
    "        tneghidprob = tensor.sigmoid(tneghidprob)\n",
    "        \n",
    "        err += tensor.sum(tensor.square((tdata - tnegdata)))\n",
    "        # compute gradients\n",
    "        gw = tensor.mult(tnegdata.T(), tneghidprob) - tensor.mult(tdata.T(), tposhidprob)\n",
    "        gvb = tensor.sum(tnegdata, 0) - tensor.sum(tdata, 0)\n",
    "        ghb = tensor.sum(tneghidprob, 0) - tensor.sum(tposhidprob, 0)\n",
    "\n",
    "        # update parameters\n",
    "        opt.apply_with_lr(epoch, 0.01 / batch_size, gw, w, 'w')\n",
    "        opt.apply_with_lr(epoch, 0.01 / batch_size, gvb, vb, 'vb')\n",
    "        opt.apply_with_lr(epoch, 0.01 / batch_size, ghb, hb, 'hb')\n",
    "\n",
    "    print 'Epoch %d, Reconstruction error per image = %f' % (epoch, err / num_train_batch / batch_size)"
   ]
  },
  {
   "cell_type": "markdown",
   "metadata": {
    "collapsed": true
   },
   "source": [
    "## Observation\n",
    "\n",
    "We can see that the reconstruction error is decreasing and the gabor filters in the figures of the weight matrix is becoming clearer."
   ]
  }
 ],
 "metadata": {
  "anaconda-cloud": {},
  "kernelspec": {
   "display_name": "Python [conda env:pysinga]",
   "language": "python",
   "name": "conda-env-pysinga-py"
  },
  "language_info": {
   "codemirror_mode": {
    "name": "ipython",
    "version": 2
   },
   "file_extension": ".py",
   "mimetype": "text/x-python",
   "name": "python",
   "nbconvert_exporter": "python",
   "pygments_lexer": "ipython2",
   "version": "2.7.12"
  }
 },
 "nbformat": 4,
 "nbformat_minor": 0
}
