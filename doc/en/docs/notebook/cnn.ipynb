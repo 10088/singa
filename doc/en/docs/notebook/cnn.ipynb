{
 "cells": [
  {
   "cell_type": "markdown",
   "metadata": {},
   "source": [
    "# Classify images from MNIST using LeNet"
   ]
  },
  {
   "cell_type": "markdown",
   "metadata": {},
   "source": [
    "## Dataset\n",
    "\n",
    "Download the [dataset](http://deeplearning.net/data/mnist/mnist.pkl.gz) to your workspace (i.e. the notebook folder)."
   ]
  },
  {
   "cell_type": "code",
   "execution_count": 1,
   "metadata": {
    "collapsed": true
   },
   "outputs": [],
   "source": [
    "import cPickle, gzip\n",
    "\n",
    "# Load the dataset\n",
    "f = gzip.open('mnist.pkl.gz', 'rb')\n",
    "train_set, valid_set, _ = cPickle.load(f)\n",
    "f.close()"
   ]
  },
  {
   "cell_type": "code",
   "execution_count": 2,
   "metadata": {
    "collapsed": false
   },
   "outputs": [
    {
     "name": "stdout",
     "output_type": "stream",
     "text": [
      "(50000, 784) (50000,)\n",
      "(10000, 784) (10000,)\n"
     ]
    }
   ],
   "source": [
    "print train_set[0].shape, train_set[1].shape\n",
    "print valid_set[0].shape, valid_set[1].shape"
   ]
  },
  {
   "cell_type": "code",
   "execution_count": 3,
   "metadata": {
    "collapsed": false
   },
   "outputs": [],
   "source": [
    "import numpy as np\n",
    "train_x = np.reshape(train_set[0], (50000, 1, 28, 28)).astype(np.float32, copy=False)\n",
    "train_y = np.array(train_set[1]).astype(np.int32, copy=False)\n",
    "valid_x = np.reshape(valid_set[0], (10000, 1, 28, 28))"
   ]
  },
  {
   "cell_type": "code",
   "execution_count": 4,
   "metadata": {
    "collapsed": false
   },
   "outputs": [
    {
     "data": {
      "text/plain": [
       "<matplotlib.image.AxesImage at 0x7f0747e21410>"
      ]
     },
     "execution_count": 4,
     "metadata": {},
     "output_type": "execute_result"
    },
    {
     "data": {
      "image/png": "[encoded data removed]",
      "text/plain": [
       "<matplotlib.figure.Figure at 0x7f077003c810>"
      ]
     },
     "metadata": {},
     "output_type": "display_data"
    }
   ],
   "source": [
    "%matplotlib inline\n",
    "import matplotlib.pyplot as plt\n",
    "plt.imshow(train_x[0][0])"
   ]
  },
  {
   "cell_type": "markdown",
   "metadata": {},
   "source": [
    "## Create the CNN model\n",
    "\n",
    "TODO: plot the net structure"
   ]
  },
  {
   "cell_type": "code",
   "execution_count": 5,
   "metadata": {
    "collapsed": false
   },
   "outputs": [
    {
     "name": "stdout",
     "output_type": "stream",
     "text": [
      "conv1 (32, 14, 14)\n",
      "relu1 (32, 14, 14)\n",
      "conv2 (32, 7, 7)\n",
      "relu2 (32, 7, 7)\n",
      "pool (32, 4, 4)\n",
      "flat (512,)\n",
      "dense (10,)\n"
     ]
    },
    {
     "data": {
      "text/plain": [
       "<singa.layer.Dense at 0x7f0735355990>"
      ]
     },
     "execution_count": 5,
     "metadata": {},
     "output_type": "execute_result"
    }
   ],
   "source": [
    "from singa import net as ffnet\n",
    "from singa.layer import Conv2D, MaxPooling2D, Dropout, Activation, Flatten, Dense\n",
    "from singa import optimizer, loss, metric\n",
    "from singa import layer\n",
    "layer.engine = 'singacpp'\n",
    "net = ffnet.FeedForwardNet(loss.SoftmaxCrossEntropy(), metric.Accuracy())\n",
    "net.add(Conv2D('conv1', 32, 3, 2, input_sample_shape=(1,28,28)))\n",
    "net.add(Activation('relu1'))\n",
    "net.add(Conv2D('conv2', 32, 3, 2))\n",
    "net.add(Activation('relu2'))\n",
    "net.add(MaxPooling2D('pool', 3, 2))\n",
    "net.add(Flatten('flat'))\n",
    "net.add(Dense('dense', 10))\n"
   ]
  },
  {
   "cell_type": "markdown",
   "metadata": {},
   "source": [
    "## Initialize the parameters\n",
    "\n",
    "* weight matrix - guassian distribution\n",
    "* bias - 0"
   ]
  },
  {
   "cell_type": "code",
   "execution_count": 6,
   "metadata": {
    "collapsed": false
   },
   "outputs": [
    {
     "name": "stdout",
     "output_type": "stream",
     "text": [
      "conv1_weight (32, 9) 0.0764843672514\n",
      "conv1_bias (32,) 0.0\n",
      "conv2_weight (32, 288) 0.0803024768829\n",
      "conv2_bias (32,) 0.0\n",
      "dense_weight (512, 10) 0.0795410946012\n",
      "dense_bias (10,) 0.0\n"
     ]
    }
   ],
   "source": [
    "for pname, pval in zip(net.param_names(), net.param_values()):\n",
    "    if len(pval.shape) > 1:\n",
    "        pval.gaussian(0, 0.1)\n",
    "    else:\n",
    "        pval.set_value(0)\n",
    "    print pname, pval.shape, pval.l1()"
   ]
  },
  {
   "cell_type": "markdown",
   "metadata": {},
   "source": [
    "## Set up the optimizer and tensors"
   ]
  },
  {
   "cell_type": "code",
   "execution_count": 7,
   "metadata": {
    "collapsed": false
   },
   "outputs": [],
   "source": [
    "from singa import tensor\n",
    "#from singa.proto import core_pb2\n",
    "from singa import device\n",
    "from singa import utils\n",
    "cpu = device.get_default_device()\n",
    "\n",
    "opt = optimizer.SGD(momentum=0.9, weight_decay=1e-4)\n",
    "batch_size = 32\n",
    "num_train_batch = train_x.shape[0] / batch_size\n",
    "\n",
    "tx = tensor.Tensor((batch_size, 1, 28, 28))\n",
    "ty = tensor.Tensor((batch_size,), cpu , tensor.int32)\n",
    "\n",
    "# for progress bar\n",
    "from tqdm import tnrange\n",
    "idx = np.arange(train_x.shape[0], dtype=np.int32)"
   ]
  },
  {
   "cell_type": "markdown",
   "metadata": {},
   "source": [
    "## Conduct SGD\n",
    "\n",
    "1. process the training data multile time, each time is called on epoch; \n",
    "2. for each epoch, read the data as mini-batches in random order\n",
    "3. for each mini-batch, do BP and update the parameters  "
   ]
  },
  {
   "cell_type": "code",
   "execution_count": 8,
   "metadata": {
    "collapsed": false
   },
   "outputs": [
    {
     "name": "stdout",
     "output_type": "stream",
     "text": [
      "\n",
      "Epoch = 0, training loss = 0.292792, training accuracy = 0.906530\n",
      "\n",
      "Epoch = 1, training loss = 0.109958, training accuracy = 0.965589\n"
     ]
    }
   ],
   "source": [
    "for epoch in range(2):\n",
    "    np.random.shuffle(idx)\n",
    "    loss, acc = 0.0, 0.0\n",
    "    \n",
    "    bar = tnrange(num_train_batch, desc='Epoch %d' % epoch)\n",
    "    for b in bar:\n",
    "        x = train_x[idx[b * batch_size: (b + 1) * batch_size]]\n",
    "        y = train_y[idx[b * batch_size: (b + 1) * batch_size]]\n",
    "        tx.copy_from_numpy(x)\n",
    "        ty.copy_from_numpy(y)\n",
    "        grads, (l, a) = net.train(tx, ty)\n",
    "        loss += l\n",
    "        acc += a\n",
    "        for (s, p, g) in zip(net.param_names(), net.param_values(), grads):\n",
    "            opt.apply_with_lr(epoch, 0.01, g, p, str(s), b)\n",
    "        # update progress bar\n",
    "        bar.set_postfix(train_loss=l, train_accuracy=a)\n",
    "    print 'Epoch = %d, training loss = %f, training accuracy = %f' % (epoch, loss / num_train_batch, acc / num_train_batch)    \n"
   ]
  },
  {
   "cell_type": "markdown",
   "metadata": {},
   "source": [
    "## Save model to disk"
   ]
  },
  {
   "cell_type": "code",
   "execution_count": 9,
   "metadata": {
    "collapsed": true
   },
   "outputs": [],
   "source": [
    "net.save('checkpoint')"
   ]
  },
  {
   "cell_type": "markdown",
   "metadata": {},
   "source": [
    "## Load model from disk"
   ]
  },
  {
   "cell_type": "code",
   "execution_count": 10,
   "metadata": {
    "collapsed": false,
    "scrolled": true
   },
   "outputs": [
    {
     "name": "stdout",
     "output_type": "stream",
     "text": [
      "NOTE: If your model was saved using pickle, then set use_pickle=True for loading it\n",
      "conv2_bias\n",
      "conv2_weight\n",
      "dense_weight\n",
      "conv1_bias\n",
      "dense_bias\n",
      "conv1_weight\n"
     ]
    }
   ],
   "source": [
    "for pval in net.param_values():\n",
    "    pval.set_value(0)\n",
    "net.load('checkpoint')"
   ]
  },
  {
   "cell_type": "markdown",
   "metadata": {},
   "source": [
    "## Do prediction"
   ]
  },
  {
   "cell_type": "code",
   "execution_count": 11,
   "metadata": {
    "collapsed": false
   },
   "outputs": [],
   "source": [
    "from PIL import Image\n",
    "img = Image.open('static/digit.jpg').convert('L')\n",
    "img = img.resize((28,28))\n",
    "img = np.array(img, dtype=np.float32)/255\n",
    "img = tensor.from_numpy(img)\n",
    "img.reshape((1,1,28,28))\n",
    "y=net.predict(img)"
   ]
  },
  {
   "cell_type": "code",
   "execution_count": 12,
   "metadata": {
    "collapsed": false
   },
   "outputs": [
    {
     "data": {
      "text/plain": [
       "[<matplotlib.lines.Line2D at 0x7f07356e4210>]"
      ]
     },
     "execution_count": 12,
     "metadata": {},
     "output_type": "execute_result"
    },
    {
     "data": {
      "image/png": "[encoded data removed]",
      "text/plain": [
       "<matplotlib.figure.Figure at 0x7f0747e45890>"
      ]
     },
     "metadata": {},
     "output_type": "display_data"
    }
   ],
   "source": [
    "prob=tensor.to_numpy(y)[0]\n",
    "plt.plot(range(10), prob)"
   ]
  },
  {
   "cell_type": "markdown",
   "metadata": {},
   "source": [
    "## Debug\n",
    "\n",
    "Print l1 norm or parameter and layer feature\n",
    "\n",
    "1. parameter initialization\n",
    "2. learning rate\n",
    "3. weight decay\n"
   ]
  },
  {
   "cell_type": "code",
   "execution_count": 13,
   "metadata": {
    "collapsed": false
   },
   "outputs": [
    {
     "name": "stdout",
     "output_type": "stream",
     "text": [
      "conv1_weight (32, 9) 7.97165679932\n",
      "conv1_bias (32,) 0.0\n",
      "conv2_weight (32, 288) 8.00566577911\n",
      "conv2_bias (32,) 0.0\n",
      "dense_weight (512, 10) 7.92119693756\n",
      "dense_bias (10,) 0.0\n",
      "\n",
      "\n",
      "Epoch 0\n",
      "-->conv1: 3.886751\n",
      "conv1-->relu1: 2.299547\n",
      "relu1-->conv2: 603.797852\n",
      "conv2-->relu2: 295.446167\n",
      "relu2-->pool: 955.442017\n",
      "pool-->flat: 955.442017\n",
      "flat-->dense: 284901.062500\n",
      "-->dense: 0.311904\n",
      "dense-->flat: 0.311904\n",
      "flat-->pool: 0.086828\n",
      "pool-->relu2: 0.050518\n",
      "relu2-->conv2: 9.024708\n",
      "conv2-->relu1: 2.790344\n",
      "relu1-->conv1: 336.182007\n",
      "\n",
      " loss = 79.148743, params\n",
      "conv1_weight 10.1786603928\n",
      "conv1_bias 12.2705039978\n",
      "conv2_weight 8.05525493622\n",
      "conv2_bias 0.13293106854\n",
      "dense_weight 8.18883609772\n",
      "dense_bias 0.00134002871346\n",
      "\n",
      "\n",
      "Epoch 1\n",
      "-->conv1: 20.362625\n",
      "conv1-->relu1: 4.780766\n",
      "relu1-->conv2: 2066.139404\n",
      "conv2-->relu2: 488.272614\n",
      "relu2-->pool: 1144.980225\n",
      "pool-->flat: 1144.980225\n",
      "flat-->dense: 1392742.250000\n",
      "-->dense: 0.286131\n",
      "dense-->flat: 0.286131\n",
      "flat-->pool: 0.084796\n",
      "pool-->relu2: 0.034586\n",
      "relu2-->conv2: 7.695237\n",
      "conv2-->relu1: 2.117975\n",
      "relu1-->conv1: 487.341522\n",
      "\n",
      " loss = 70.960945, params\n",
      "conv1_weight 16.7161483765\n",
      "conv1_bias 34.0985298157\n",
      "conv2_weight 8.74045848846\n",
      "conv2_bias 0.33584010601\n",
      "dense_weight 9.48363685608\n",
      "dense_bias 0.00340566551313\n",
      "\n",
      "\n",
      "Epoch 2\n",
      "-->conv1: 52.302490\n",
      "conv1-->relu1: 10.072969\n",
      "relu1-->conv2: 12706.870117\n",
      "conv2-->relu2: 1381.310059\n",
      "relu2-->pool: 1888.169067\n",
      "pool-->flat: 1888.169067\n",
      "flat-->dense: 4740897.500000\n",
      "-->dense: 0.350905\n",
      "dense-->flat: 0.350905\n",
      "flat-->pool: 0.111108\n",
      "pool-->relu2: 0.023244\n",
      "relu2-->conv2: 7.156909\n",
      "conv2-->relu1: 1.548402\n",
      "relu1-->conv1: 516.079651\n",
      "\n",
      " loss = 73.690216, params\n",
      "conv1_weight 30.0410804749\n",
      "conv1_bias 60.256187439\n",
      "conv2_weight 11.2280254364\n",
      "conv2_bias 0.536676049232\n",
      "dense_weight 13.0333833694\n",
      "dense_bias 0.00553257204592\n",
      "\n",
      "\n",
      "Epoch 3\n",
      "-->conv1: 96.670937\n",
      "conv1-->relu1: 2.220010\n",
      "relu1-->conv2: 16051.786133\n",
      "conv2-->relu2: 705.551208\n",
      "relu2-->pool: 846.462280\n",
      "pool-->flat: 846.462280\n",
      "flat-->dense: 4615773.000000\n",
      "-->dense: 0.454912\n",
      "dense-->flat: 0.454912\n",
      "flat-->pool: 0.146553\n",
      "pool-->relu2: 0.012394\n",
      "relu2-->conv2: 6.071361\n",
      "conv2-->relu1: 0.411632\n",
      "relu1-->conv1: 328.999054\n",
      "\n",
      " loss = 81.878014, params\n",
      "conv1_weight 44.8700485229\n",
      "conv1_bias 111.767730713\n",
      "conv2_weight 14.0987415314\n",
      "conv2_bias 0.919560790062\n",
      "dense_weight 18.0457553864\n",
      "dense_bias 0.00845981575549\n",
      "\n",
      "\n",
      "Epoch 4\n",
      "-->conv1: 165.898941\n",
      "conv1-->relu1: 0.000018\n",
      "relu1-->conv2: 1.004575\n",
      "conv2-->relu2: 0.049885\n",
      "relu2-->pool: 0.214831\n",
      "pool-->flat: 0.214831\n",
      "flat-->dense: 1963.049194\n",
      "-->dense: 0.560196\n",
      "dense-->flat: 0.560196\n",
      "flat-->pool: 0.182800\n",
      "pool-->relu2: 0.026711\n",
      "relu2-->conv2: 10.339769\n",
      "conv2-->relu1: 0.006092\n",
      "relu1-->conv1: 11.064970\n",
      "\n",
      " loss = 45.199768, params\n",
      "conv1_weight 58.6796875\n",
      "conv1_bias 162.814819336\n",
      "conv2_weight 16.8376598358\n",
      "conv2_bias 1.47756028175\n",
      "dense_weight 23.0595436096\n",
      "dense_bias 0.01112665236\n",
      "\n",
      "\n",
      "Epoch 5\n",
      "-->conv1: 241.562866\n",
      "conv1-->relu1: 0.000000\n",
      "relu1-->conv2: 1.477560\n",
      "conv2-->relu2: 0.000000\n",
      "relu2-->pool: 0.000000\n",
      "pool-->flat: 0.000000\n",
      "flat-->dense: 0.011127\n",
      "-->dense: 0.668576\n",
      "dense-->flat: 0.668576\n",
      "flat-->pool: 0.218311\n",
      "pool-->relu2: 0.000000\n",
      "relu2-->conv2: 0.000000\n",
      "conv2-->relu1: 0.000000\n",
      "relu1-->conv1: 0.000000\n",
      "\n",
      " loss = 2.299366, params\n",
      "conv1_weight 71.2618331909\n",
      "conv1_bias 208.757034302\n",
      "conv2_weight 19.3444824219\n",
      "conv2_bias 2.00746393204\n",
      "dense_weight 27.6571712494\n",
      "dense_bias 0.0137531962246\n",
      "\n",
      "\n",
      "Epoch 6\n",
      "-->conv1: 296.653534\n",
      "conv1-->relu1: 0.000000\n",
      "relu1-->conv2: 2.007464\n",
      "conv2-->relu2: 0.000000\n",
      "relu2-->pool: 0.000000\n",
      "pool-->flat: 0.000000\n",
      "flat-->dense: 0.013753\n",
      "-->dense: 0.910015\n",
      "dense-->flat: 0.910015\n",
      "flat-->pool: 0.297148\n",
      "pool-->relu2: 0.000000\n",
      "relu2-->conv2: 0.000000\n",
      "conv2-->relu1: 0.000000\n",
      "relu1-->conv1: 0.000000\n",
      "\n",
      " loss = 2.301979, params\n",
      "conv1_weight 82.6378097534\n",
      "conv1_bias 250.104797363\n",
      "conv2_weight 21.6229515076\n",
      "conv2_bias 2.484375\n",
      "dense_weight 31.8290367126\n",
      "dense_bias 0.0165074821562\n",
      "\n",
      "\n",
      "Epoch 7\n",
      "-->conv1: 348.356262\n",
      "conv1-->relu1: 0.000000\n",
      "relu1-->conv2: 2.484375\n",
      "conv2-->relu2: 0.000000\n",
      "relu2-->pool: 0.000000\n",
      "pool-->flat: 0.000000\n",
      "flat-->dense: 0.016507\n",
      "-->dense: 0.927903\n",
      "dense-->flat: 0.927903\n",
      "flat-->pool: 0.302989\n",
      "pool-->relu2: 0.000000\n",
      "relu2-->conv2: 0.000000\n",
      "conv2-->relu1: 0.000000\n",
      "relu1-->conv1: 0.000000\n",
      "\n",
      " loss = 2.302492, params\n",
      "conv1_weight 92.8762283325\n",
      "conv1_bias 287.317565918\n",
      "conv2_weight 23.6872882843\n",
      "conv2_bias 2.9135928154\n",
      "dense_weight 35.6038131714\n",
      "dense_bias 0.0192515775561\n",
      "\n",
      "\n",
      "Epoch 8\n",
      "-->conv1: 394.178162\n",
      "conv1-->relu1: 0.000000\n",
      "relu1-->conv2: 2.913593\n",
      "conv2-->relu2: 0.000000\n",
      "relu2-->pool: 0.000000\n",
      "pool-->flat: 0.000000\n",
      "flat-->dense: 0.019252\n",
      "-->dense: 1.218609\n",
      "dense-->flat: 1.218609\n",
      "flat-->pool: 0.397913\n",
      "pool-->relu2: 0.000000\n",
      "relu2-->conv2: 0.000000\n",
      "conv2-->relu1: 0.000000\n",
      "relu1-->conv1: 0.000000\n",
      "\n",
      " loss = 2.300582, params\n",
      "conv1_weight 102.090713501\n",
      "conv1_bias 320.808746338\n",
      "conv2_weight 25.5548191071\n",
      "conv2_bias 3.29988527298\n",
      "dense_weight 39.0138893127\n",
      "dense_bias 0.0218270029873\n",
      "\n",
      "\n",
      "Epoch 9\n",
      "-->conv1: 430.156555\n",
      "conv1-->relu1: 0.000000\n",
      "relu1-->conv2: 3.299885\n",
      "conv2-->relu2: 0.000000\n",
      "relu2-->pool: 0.000000\n",
      "pool-->flat: 0.000000\n",
      "flat-->dense: 0.021827\n",
      "-->dense: 1.221773\n",
      "dense-->flat: 1.221773\n",
      "flat-->pool: 0.398946\n",
      "pool-->relu2: 0.000000\n",
      "relu2-->conv2: 0.000000\n",
      "conv2-->relu1: 0.000000\n",
      "relu1-->conv1: 0.000000\n",
      "\n",
      " loss = 2.302244, params\n",
      "conv1_weight 110.383636475\n",
      "conv1_bias 350.950500488\n",
      "conv2_weight 27.2405776978\n",
      "conv2_bias 3.64754581451\n",
      "dense_weight 42.0904846191\n",
      "dense_bias 0.0241855494678\n"
     ]
    }
   ],
   "source": [
    "np.random.shuffle(idx)\n",
    "ffnet.verbose=True\n",
    "for pname, pval in zip(net.param_names(), net.param_values()):\n",
    "    if len(pval.shape) > 1:\n",
    "        pval.gaussian(0, 10)\n",
    "    else:\n",
    "        pval.set_value(0)\n",
    "    print pname, pval.shape, pval.l1()\n",
    "for b in range(10):\n",
    "    print \"\\n\\nEpoch %d\" % b\n",
    "    x = train_x[idx[b * batch_size: (b + 1) * batch_size]]\n",
    "    y = train_y[idx[b * batch_size: (b + 1) * batch_size]]\n",
    "    tx.copy_from_numpy(x)\n",
    "    ty.copy_from_numpy(y)\n",
    "    grads, (l, a) = net.train(tx, ty)\n",
    "    print '\\n loss = %f, params' % l\n",
    "    for (s, p, g) in zip(net.param_names(), net.param_values(), grads):\n",
    "        opt.apply_with_lr(epoch, 0.01, g, p, str(s), b)\n",
    "        print s, p.l1()\n"
   ]
  },
  {
   "cell_type": "code",
   "execution_count": 14,
   "metadata": {
    "collapsed": true
   },
   "outputs": [],
   "source": [
    "def vis_square(data):\n",
    "    \"\"\"Take an array of shape (n, height, width) or (n, height, width, 3)\n",
    "       and visualize each (height, width) thing in a grid of size approx. sqrt(n) by sqrt(n)\"\"\"\n",
    "    \n",
    "    # normalize data for display\n",
    "    data = (data - data.min()) / (data.max() - data.min())\n",
    "    \n",
    "    # force the number of filters to be square\n",
    "    n = int(np.ceil(np.sqrt(data.shape[0])))\n",
    "    padding = (((0, n ** 2 - data.shape[0]),\n",
    "               (0, 1), (0, 1))                 # add some space between filters\n",
    "               + ((0, 0),) * (data.ndim - 3))  # don't pad the last dimension (if there is one)\n",
    "    data = np.pad(data, padding, mode='constant', constant_values=1)  # pad with ones (white)\n",
    "    \n",
    "    # tile the filters into an image\n",
    "    data = data.reshape((n, n) + data.shape[1:]).transpose((0, 2, 1, 3) + tuple(range(4, data.ndim + 1)))\n",
    "    data = data.reshape((n * data.shape[1], n * data.shape[3]) + data.shape[4:])\n",
    "    \n",
    "    plt.imshow(data); plt.axis('off')"
   ]
  },
  {
   "cell_type": "code",
   "execution_count": 15,
   "metadata": {
    "collapsed": false
   },
   "outputs": [
    {
     "name": "stdout",
     "output_type": "stream",
     "text": [
      "NOTE: If your model was saved using pickle, then set use_pickle=True for loading it\n",
      "conv2_bias\n",
      "conv2_weight\n",
      "dense_weight\n",
      "conv1_bias\n",
      "dense_bias\n",
      "conv1_weight\n"
     ]
    }
   ],
   "source": [
    "np.random.shuffle(idx)\n",
    "ffnet.verbose=False\n",
    "net.load('checkpoint')\n",
    "b=1\n",
    "x = train_x[idx[b * batch_size: (b + 1) * batch_size]]    \n",
    "tx.copy_from_numpy(x)\n",
    "\n",
    "r = net.forward(False, tx, ['relu1', 'relu2'])\n",
    "\n",
    "\n",
    "    "
   ]
  },
  {
   "cell_type": "code",
   "execution_count": 16,
   "metadata": {
    "collapsed": false
   },
   "outputs": [
    {
     "data": {
      "image/png": "[encoded data removed]",
      "text/plain": [
       "<matplotlib.figure.Figure at 0x7f0747eafc90>"
      ]
     },
     "metadata": {},
     "output_type": "display_data"
    }
   ],
   "source": [
    "r1 = tensor.to_numpy(r['relu1'])[0]\n",
    "vis_square(r1)"
   ]
  },
  {
   "cell_type": "code",
   "execution_count": 17,
   "metadata": {
    "collapsed": false
   },
   "outputs": [
    {
     "data": {
      "image/png": "[encoded data removed]",
      "text/plain": [
       "<matplotlib.figure.Figure at 0x7f07356cc790>"
      ]
     },
     "metadata": {},
     "output_type": "display_data"
    }
   ],
   "source": [
    "r2 = tensor.to_numpy(r['relu2'])[0]\n",
    "vis_square(r2)"
   ]
  },
  {
   "cell_type": "code",
   "execution_count": 18,
   "metadata": {
    "collapsed": false
   },
   "outputs": [
    {
     "name": "stdout",
     "output_type": "stream",
     "text": [
      "(32, 288)\n"
     ]
    }
   ],
   "source": [
    "p=net.param_values()[2]\n",
    "print p.shape"
   ]
  },
  {
   "cell_type": "code",
   "execution_count": 20,
   "metadata": {
    "collapsed": false
   },
   "outputs": [
    {
     "data": {
      "image/png": "[encoded data removed]",
      "text/plain": [
       "<matplotlib.figure.Figure at 0x7f07355967d0>"
      ]
     },
     "metadata": {},
     "output_type": "display_data"
    }
   ],
   "source": [
    "vis_square(tensor.to_numpy(p)[0].reshape(32, 3,3))"
   ]
  },
  {
   "cell_type": "code",
   "execution_count": null,
   "metadata": {
    "collapsed": true
   },
   "outputs": [],
   "source": []
  }
 ],
 "metadata": {
  "anaconda-cloud": {},
  "kernelspec": {
   "display_name": "Python [conda env:conda]",
   "language": "python",
   "name": "conda-env-conda-py"
  },
  "language_info": {
   "codemirror_mode": {
    "name": "ipython",
    "version": 2
   },
   "file_extension": ".py",
   "mimetype": "text/x-python",
   "name": "python",
   "nbconvert_exporter": "python",
   "pygments_lexer": "ipython2",
   "version": "2.7.13"
  },
  "widgets": {
   "state": {
    "0678ea185e8c48a9ab20bdb956e6b18a": {
     "views": [
      {
       "cell_index": 13
      }
     ]
    },
    "1373fb7b9e754b639a3f27ebf0372d70": {
     "views": [
      {
       "cell_index": 13
      }
     ]
    },
    "49561f2ab00b457f82357766d967ca8b": {
     "views": [
      {
       "cell_index": 13
      }
     ]
    }
   },
   "version": "1.2.0"
  }
 },
 "nbformat": 4,
 "nbformat_minor": 2
}
